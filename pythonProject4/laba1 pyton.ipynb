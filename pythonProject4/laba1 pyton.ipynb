{
 "cells": [
  {
   "cell_type": "code",
   "id": "initial_id",
   "metadata": {
    "collapsed": true,
    "ExecuteTime": {
     "end_time": "2025-09-24T08:59:27.135193Z",
     "start_time": "2025-09-24T08:59:27.128915Z"
    }
   },
   "source": [
    "#Вариант №9\n",
    "#1.\tНайти индекс элемента массива, равного 13. Если такого числа в массиве нет, то вывести на экран соответствующее сообщение. \n",
    "#одномерный массив\n",
    "arr = [5, 8, 13, 21, 34]\n",
    "\n",
    "if 13 in arr:\n",
    "    print(\"Индекс:\", arr.index(13))\n",
    "else:\n",
    "    print(\"Число 13 не найдено в массиве.\")"
   ],
   "outputs": [
    {
     "name": "stdout",
     "output_type": "stream",
     "text": [
      "Индекс: 2\n"
     ]
    }
   ],
   "execution_count": 8
  },
  {
   "metadata": {
    "ExecuteTime": {
     "end_time": "2025-09-24T09:16:31.230627Z",
     "start_time": "2025-09-24T09:16:31.222295Z"
    }
   },
   "cell_type": "code",
   "source": [
    "#2.\tДан двумерный массив. Удалить из него все строки с четными номерами. Под удалением строки двумерного массива следует понимать исключение этой строки из массива путем смещения всех следующих за ней строк на одну вверх и присвоение всем элементам последней строки значения 0.\n",
    "# двумерный\n",
    "arrays = [\n",
    "    [10, 20, 30],    \n",
    "    [40, 50, 60],    \n",
    "    [70, 80, 90],   \n",
    "]\n",
    "\n",
    "print(\"Было:\")\n",
    "for arr in arrays:\n",
    "    print(arr)\n",
    "\n",
    "# остаются массивы с нечётными индексами\n",
    "new_arrays = [arrays[i] for i in range(1, len(arrays), 2)]\n",
    "\n",
    "# дополняю нуликами до исходного количества массивов\n",
    "while len(new_arrays) < len(arrays):\n",
    "    new_arrays.append([0] * len(arrays[0]))\n",
    "\n",
    "print(\"\\nСтало:\")\n",
    "for arr in new_arrays:\n",
    "    print(arr)"
   ],
   "id": "b64b214deedb3a6e",
   "outputs": [
    {
     "name": "stdout",
     "output_type": "stream",
     "text": [
      "Было:\n",
      "[10, 20, 30]\n",
      "[40, 50, 60]\n",
      "[70, 80, 90]\n",
      "\n",
      "Стало:\n",
      "[40, 50, 60]\n",
      "[0, 0, 0]\n",
      "[0, 0, 0]\n"
     ]
    }
   ],
   "execution_count": 11
  },
  {
   "metadata": {
    "ExecuteTime": {
     "end_time": "2025-09-24T09:23:44.827878Z",
     "start_time": "2025-09-24T09:23:44.822845Z"
    }
   },
   "cell_type": "code",
   "source": [
    "#3.\tПереставьте соседние элементы списка (A[0] c A[1], A[2] c A[3] и т. д.). Если элементов нечетное число, то последний элемент остается на своем месте.\n",
    "#списсок\n",
    "A = [[0], [1], [2],[3], [4], [5]] \n",
    "#переставляю элементы\n",
    "for i in range(0, len(A) - 1, 2):\n",
    "    A[i], A[i + 1] = A[i + 1], A[i]\n",
    "\n",
    "print(A)"
   ],
   "id": "a6c211e9ad329ba1",
   "outputs": [
    {
     "name": "stdout",
     "output_type": "stream",
     "text": [
      "[[1], [0], [3], [2], [5], [4]]\n"
     ]
    }
   ],
   "execution_count": 14
  },
  {
   "metadata": {
    "ExecuteTime": {
     "end_time": "2025-09-30T12:17:57.145652Z",
     "start_time": "2025-09-30T12:17:48.483236Z"
    }
   },
   "cell_type": "code",
   "source": [
    "#4.\tПолитическая жизнь одной страны очень оживленная. В стране действует K политических \n",
    "N, K = map(int, input().split())\n",
    "\n",
    "# Множество для хранения всех дней, когда была забастовка\n",
    "strike_days = set()\n",
    "\n",
    "for _ in range(K):\n",
    "    a, b = map(int, input().split())\n",
    "    day = a\n",
    "    while day <= N:\n",
    "        strike_days.add(day)\n",
    "        day += b\n",
    "\n",
    "# Считаем, сколько из этих дней — не выходные\n",
    "count = 0\n",
    "for day in strike_days:\n",
    "    day_of_week = ((day - 1) % 7) + 1\n",
    "    if day_of_week not in [6, 7]:  \n",
    "        count += 1\n",
    "\n",
    "print(count)"
   ],
   "id": "732d340c2428a675",
   "outputs": [
    {
     "name": "stdout",
     "output_type": "stream",
     "text": [
      "5\n"
     ]
    }
   ],
   "execution_count": 10
  },
  {
   "metadata": {
    "ExecuteTime": {
     "end_time": "2025-09-30T12:24:16.923606Z",
     "start_time": "2025-09-30T12:24:02.954297Z"
    }
   },
   "cell_type": "code",
   "source": [
    "#5 cо словарём\n",
    "n = int(input(\"Введите количество строк: \"))\n",
    "\n",
    "word_count = {}\n",
    "\n",
    "for _ in range(n):\n",
    "    line = input().split()  \n",
    "    for word in line:\n",
    "        word_count[word] = word_count.get(word, 0) + 1\n",
    "\n",
    "# сортировка\n",
    "sorted_words = sorted(word_count.items())\n",
    "\n",
    "# вывод\n",
    "for word, count in sorted_words:\n",
    "    print(f\"{word}: {count}\")"
   ],
   "id": "3afc86c42c19d359",
   "outputs": [
    {
     "name": "stdout",
     "output_type": "stream",
     "text": [
      "2: 1\n",
      "отсоси: 1\n",
      "пососи: 1\n"
     ]
    }
   ],
   "execution_count": 13
  }
 ],
 "metadata": {
  "kernelspec": {
   "display_name": "Python 3",
   "language": "python",
   "name": "python3"
  },
  "language_info": {
   "codemirror_mode": {
    "name": "ipython",
    "version": 2
   },
   "file_extension": ".py",
   "mimetype": "text/x-python",
   "name": "python",
   "nbconvert_exporter": "python",
   "pygments_lexer": "ipython2",
   "version": "2.7.6"
  }
 },
 "nbformat": 4,
 "nbformat_minor": 5
}
